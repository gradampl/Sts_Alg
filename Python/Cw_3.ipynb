{
 "cells": [
  {
   "cell_type": "code",
   "execution_count": 3,
   "metadata": {},
   "outputs": [],
   "source": [
    "import pandas as pd\n",
    "import numpy as np\n",
    "import matplotlib as plt\n",
    "import statistics as stat\n",
    "import scipy.stats as scs\n",
    "import seaborn as sns"
   ]
  },
  {
   "cell_type": "code",
   "execution_count": 1,
   "metadata": {},
   "outputs": [],
   "source": [
    "# Zadanie 1\n",
    "\n",
    "# Dla zmiennych losowych przedstawionych w tabeli obliczyć podstawowe statystyki \n",
    "# Wartość             1    2    3    4    5    6 \n",
    "# Prawdopodobieństwo 1/6  1/6  1/6  1/6  1/6  1/6 "
   ]
  },
  {
   "cell_type": "code",
   "execution_count": 7,
   "metadata": {},
   "outputs": [
    {
     "name": "stdout",
     "output_type": "stream",
     "text": [
      "mean =  3.5\n",
      "expected value = mean =  3.5\n",
      "variance =  2.916666666666666\n",
      "standard deviation =  1.707825127659933\n",
      "median =  3.0\n",
      "\n",
      "cumulative distribution function =  0  -  0.0\n",
      "cumulative distribution function =  1  -  0.16666666666666666\n",
      "cumulative distribution function =  2  -  0.3333333333333333\n",
      "cumulative distribution function =  3  -  0.5\n",
      "cumulative distribution function =  4  -  0.6666666666666666\n",
      "cumulative distribution function =  5  -  0.8333333333333333\n",
      "cumulative distribution function =  6  -  1.0\n"
     ]
    }
   ],
   "source": [
    "items = (1, 2, 3, 4, 5, 6)\n",
    "probability = (1/6,1/6,1/6,1/6,1/6,1/6)\n",
    "\n",
    "dt = scs.rv_discrete(name=\"firstVar\", values=(items,probability))\n",
    "print(\"mean = \", dt.mean())\n",
    "print(\"expected value = mean = \", dt.expect())\n",
    "print(\"variance = \", dt.var())\n",
    "print(\"standard deviation = \",dt.std())\n",
    "print(\"median = \",dt.median())\n",
    "print()\n",
    "for i in range(7):\n",
    "    print(\"cumulative distribution function = \", i,\" - \", dt.cdf(i))"
   ]
  },
  {
   "cell_type": "code",
   "execution_count": 8,
   "metadata": {},
   "outputs": [],
   "source": [
    "# Zadanie 2\n",
    "\n",
    "# Wygeneruj próby dla n=100 dla następujących rozkładów: Bernoulliego, Dwumianowego, Poissona"
   ]
  },
  {
   "cell_type": "code",
   "execution_count": 11,
   "metadata": {},
   "outputs": [],
   "source": [
    "p = 0.6\n",
    "n = 9\n",
    "Bernoulli = scs.bernoulli.rvs(p, size=100)\n",
    "Binomial = scs.binom.rvs(n, p, size=100)\n",
    "Poisson = scs.poisson.rvs(p, size=100)"
   ]
  },
  {
   "cell_type": "code",
   "execution_count": 12,
   "metadata": {},
   "outputs": [
    {
     "name": "stdout",
     "output_type": "stream",
     "text": [
      "[0 1 1 1 1 1 0 1 0 1 1 0 1 1 0 1 1 0 1 0 1 0 1 1 1 1 0 0 0 1 1 0 1 0 0 1 0\n",
      " 1 1 0 0 1 1 1 1 0 1 0 1 0 0 1 1 0 0 0 1 0 0 0 0 1 1 0 1 1 0 0 1 1 1 0 1 0\n",
      " 1 0 1 1 0 0 1 1 1 0 0 0 1 1 1 0 0 1 1 0 1 1 1 0 0 1]\n",
      "\n",
      "[6 4 7 6 8 6 8 7 6 6 6 5 7 5 7 5 6 7 4 6 5 6 7 7 6 7 6 4 7 5 4 6 8 3 4 4 3\n",
      " 5 7 5 5 4 6 6 0 3 5 6 5 5 5 5 6 5 7 6 5 4 4 7 5 3 4 3 5 5 5 6 6 4 4 6 3 5\n",
      " 5 5 3 6 5 2 6 4 6 1 6 7 4 7 5 7 6 4 7 5 4 5 6 6 7 7]\n",
      "\n",
      "[0 1 1 0 0 0 0 0 0 0 1 0 0 2 0 1 0 0 0 0 1 0 2 0 0 0 0 1 2 1 1 0 0 0 1 0 1\n",
      " 1 0 0 1 0 1 1 1 0 0 0 0 0 0 0 0 0 0 1 1 0 0 2 0 0 0 1 1 1 0 1 0 0 0 0 0 0\n",
      " 0 0 0 1 0 0 0 0 0 1 0 0 1 0 0 0 0 0 0 2 1 0 1 0 2 0]\n"
     ]
    }
   ],
   "source": [
    "print(Bernoulli)\n",
    "print()\n",
    "print(Binomial)\n",
    "print()\n",
    "print(Poisson)"
   ]
  },
  {
   "cell_type": "code",
   "execution_count": 13,
   "metadata": {},
   "outputs": [],
   "source": [
    "# Zadanie 3\n",
    "\n",
    "# Policz dla nich statystyki podstawowe (średnią, wariancję, kurtozę i skośność)."
   ]
  },
  {
   "cell_type": "code",
   "execution_count": 16,
   "metadata": {},
   "outputs": [
    {
     "name": "stdout",
     "output_type": "stream",
     "text": [
      "mean =  0.6\n",
      "variance =  0.24\n",
      "kurtosis =  -1.8333333333333308\n",
      "skewness =  -0.4082482904638634\n"
     ]
    }
   ],
   "source": [
    "# a) dla rozkładu Bernoulliego\n",
    "\n",
    "mean, var, skew, kurt = scs.bernoulli.stats(p, moments='mvsk')\n",
    "print(\"mean = \", mean)\n",
    "print(\"variance = \",var)\n",
    "print(\"kurtosis = \",kurt)\n",
    "print(\"skewness = \", skew)"
   ]
  },
  {
   "cell_type": "code",
   "execution_count": 17,
   "metadata": {},
   "outputs": [
    {
     "name": "stdout",
     "output_type": "stream",
     "text": [
      "mean =  5.3999999999999995\n",
      "variance =  2.1599999999999997\n",
      "kurtosis =  -0.20370370370370372\n",
      "skewness =  -0.1360827634879543\n"
     ]
    }
   ],
   "source": [
    "# b) dla rozkładu Dwumianowego\n",
    "\n",
    "mean, var, skew, kurt = scs.binom.stats(n, p, moments='mvsk')\n",
    "print(\"mean = \", mean)\n",
    "print(\"variance = \",var)\n",
    "print(\"kurtosis = \",kurt)\n",
    "print(\"skewness = \", skew)"
   ]
  },
  {
   "cell_type": "code",
   "execution_count": 18,
   "metadata": {},
   "outputs": [
    {
     "name": "stdout",
     "output_type": "stream",
     "text": [
      "mean =  9.6\n",
      "variance =  9.0\n",
      "kurtosis =  0.1111111111111111\n",
      "skewness =  0.3333333333333333\n"
     ]
    }
   ],
   "source": [
    "# c) dla rozkładu Poissona\n",
    "\n",
    "mean, var, skew, kurt = scs.poisson.stats(n, p, moments='mvsk')\n",
    "print(\"mean = \", mean)\n",
    "print(\"variance = \",var)\n",
    "print(\"kurtosis = \",kurt)\n",
    "print(\"skewness = \", skew)"
   ]
  },
  {
   "cell_type": "code",
   "execution_count": 19,
   "metadata": {},
   "outputs": [],
   "source": [
    "# Zadanie 4\n",
    "\n",
    "# Dla rozkładów Bernoulliego, Dwumianowego i Poissona narysuj wykres składający się\n",
    "# z 3 części, gdzie każda część będzie zawierać wykres rozkładu prawdopodobieństwa "
   ]
  },
  {
   "cell_type": "code",
   "execution_count": 20,
   "metadata": {},
   "outputs": [
    {
     "data": {
      "text/plain": [
       "[Text(0, 0.5, 'frequency'), Text(0.5, 0, 'Bernoulli')]"
      ]
     },
     "execution_count": 20,
     "metadata": {},
     "output_type": "execute_result"
    },
    {
     "data": {
      "image/png": "[encoded data removed]",
      "text/plain": [
       "<Figure size 432x288 with 1 Axes>"
      ]
     },
     "metadata": {
      "needs_background": "light"
     },
     "output_type": "display_data"
    }
   ],
   "source": [
    "# a) dla rozkładu Bernoulliego\n",
    "\n",
    "ax = sns.distplot(bernoulli, color='green')\n",
    "ax.set(xlabel='Bernoulli',ylabel='frequency')"
   ]
  },
  {
   "cell_type": "code",
   "execution_count": 21,
   "metadata": {},
   "outputs": [
    {
     "data": {
      "text/plain": [
       "[Text(0, 0.5, 'frequency'), Text(0.5, 0, 'Binomial')]"
      ]
     },
     "execution_count": 21,
     "metadata": {},
     "output_type": "execute_result"
    },
    {
     "data": {
      "image/png": "[encoded data removed]",
      "text/plain": [
       "<Figure size 432x288 with 1 Axes>"
      ]
     },
     "metadata": {
      "needs_background": "light"
     },
     "output_type": "display_data"
    }
   ],
   "source": [
    "# b) dla rozkładu Dwumianowego\n",
    "\n",
    "ax = sns.distplot(binomial, color='red')\n",
    "ax.set(xlabel='Binomial', ylabel='frequency')"
   ]
  },
  {
   "cell_type": "code",
   "execution_count": 22,
   "metadata": {},
   "outputs": [
    {
     "data": {
      "text/plain": [
       "[Text(0, 0.5, 'frequency'), Text(0.5, 0, 'Poisson')]"
      ]
     },
     "execution_count": 22,
     "metadata": {},
     "output_type": "execute_result"
    },
    {
     "data": {
      "image/png": "[encoded data removed]",
      "text/plain": [
       "<Figure size 432x288 with 1 Axes>"
      ]
     },
     "metadata": {
      "needs_background": "light"
     },
     "output_type": "display_data"
    }
   ],
   "source": [
    "# c) dla rozkładu Poissona\n",
    "\n",
    "ax = sns.distplot(poisson, color='magenta')\n",
    "ax.set(xlabel='Poisson', ylabel='frequency')"
   ]
  },
  {
   "cell_type": "code",
   "execution_count": 23,
   "metadata": {},
   "outputs": [],
   "source": [
    "# Zadanie 5\n",
    "\n",
    "# Dla rozkładu Dwumianowego wygeneruj rozkład prawdopodobieństwa dla n = 20, k = 0, …, 20\n",
    "# oraz p = 0.4. Sprawdź, czy suma prawdopodobieństw wygenerowana \n",
    "# dla rozkładu dwumianowego jest równa 1."
   ]
  },
  {
   "cell_type": "code",
   "execution_count": 29,
   "metadata": {},
   "outputs": [
    {
     "data": {
      "text/plain": [
       "[Text(0, 0.5, 'frequency'), Text(0.5, 0, 'Binomial')]"
      ]
     },
     "execution_count": 29,
     "metadata": {},
     "output_type": "execute_result"
    },
    {
     "data": {
      "image/png": "[encoded data removed]",
      "text/plain": [
       "<Figure size 432x288 with 1 Axes>"
      ]
     },
     "metadata": {
      "needs_background": "light"
     },
     "output_type": "display_data"
    }
   ],
   "source": [
    "binomial = scs.binom.rvs(n=20, p=0.4, size=20)\n",
    "ax = sns.distplot(binomial,color='yellow')\n",
    "ax.set(xlabel='Binomial', ylabel='frequency')"
   ]
  },
  {
   "cell_type": "code",
   "execution_count": 32,
   "metadata": {},
   "outputs": [
    {
     "name": "stdout",
     "output_type": "stream",
     "text": [
      "Probability total =  1.0\n"
     ]
    }
   ],
   "source": [
    "print(\"Probability total = \", scs.binom.cdf(k=20, n=20, p=0.4))"
   ]
  },
  {
   "cell_type": "code",
   "execution_count": 33,
   "metadata": {},
   "outputs": [],
   "source": [
    "# Zadanie 6\n",
    "\n",
    "# Wygeneruj 100 danych dla rozkładu normalnego o średniej równej 0 \n",
    "# i odchyleniu standardowym równym 2. Wyznacz wszystkie statystyki \n",
    "# podstawowe – czy są one równe z wartościami teoretycznymi? \n",
    "# Sprawdź, czy zwiększenie liczby danych zwiększy dokładność \n",
    "# wyliczeń statystyk opisowych. "
   ]
  },
  {
   "cell_type": "code",
   "execution_count": 34,
   "metadata": {},
   "outputs": [
    {
     "name": "stdout",
     "output_type": "stream",
     "text": [
      "mean - expected: 0, actual:  0.0\n",
      "variance- expected: 4, actual:  4.0\n",
      "standard deviation - expected: 2, actual:  2.119435116014351\n",
      "median- expected: 0, actual:  0.0\n",
      "expected value - expected: 0, actual:  0.0\n",
      "kurtosis - expected: 0, actual:  0.0\n",
      "skewness - expected: 0, actual:  0.0\n"
     ]
    }
   ],
   "source": [
    "# Dla 100\n",
    "\n",
    "data = scs.norm.rvs(size=100, loc=0, scale=2)\n",
    "mean, var, skew, kurt = scs.norm.stats(loc=0, scale=2, moments='mvsk')\n",
    "print(\"mean - expected: 0, actual: \", mean)\n",
    "print(\"variance- expected: 4, actual: \", var)\n",
    "print(\"standard deviation - expected: 2, actual: \", data.std())\n",
    "print(\"median- expected: 0, actual: \",scs.norm.median(loc=0, scale=2))\n",
    "print(\"expected value - expected: 0, actual: \", scs.norm.expect(loc=0, scale=2))\n",
    "print(\"kurtosis - expected: 0, actual: \", kurt)\n",
    "print(\"skewness - expected: 0, actual: \", skew)"
   ]
  },
  {
   "cell_type": "code",
   "execution_count": 35,
   "metadata": {},
   "outputs": [
    {
     "name": "stdout",
     "output_type": "stream",
     "text": [
      "mean - expected: 0, actual:  0.0\n",
      "variance- expected: 4, actual:  4.0\n",
      "standard deviation - expected: 2, actual:  2.0346855734417746\n",
      "median- expected: 0, actual:  0.0\n",
      "expected value - expected: 0, actual:  0.0\n",
      "kurtosis - expected: 0, actual:  0.0\n",
      "skewness - expected: 0, actual:  0.0\n"
     ]
    }
   ],
   "source": [
    "# Dla 1000\n",
    "\n",
    "data = scs.norm.rvs(size=1000, loc=0, scale=2)\n",
    "mean, var, skew, kurt = scs.norm.stats(loc=0, scale=2, moments='mvsk')\n",
    "print(\"mean - expected: 0, actual: \", mean)\n",
    "print(\"variance- expected: 4, actual: \", var)\n",
    "print(\"standard deviation - expected: 2, actual: \", data.std())\n",
    "print(\"median- expected: 0, actual: \",scs.norm.median(loc=0, scale=2))\n",
    "print(\"expected value - expected: 0, actual: \", scs.norm.expect(loc=0, scale=2))\n",
    "print(\"kurtosis - expected: 0, actual: \", kurt)\n",
    "print(\"skewness - expected: 0, actual: \", skew)"
   ]
  },
  {
   "cell_type": "code",
   "execution_count": 36,
   "metadata": {},
   "outputs": [
    {
     "name": "stdout",
     "output_type": "stream",
     "text": [
      "mean - expected: 0, actual:  0.0\n",
      "variance- expected: 4, actual:  4.0\n",
      "standard deviation - expected: 2, actual:  1.9908524128657836\n",
      "median- expected: 0, actual:  0.0\n",
      "expected value - expected: 0, actual:  0.0\n",
      "kurtosis - expected: 0, actual:  0.0\n",
      "skewness - expected: 0, actual:  0.0\n"
     ]
    }
   ],
   "source": [
    "# Dla 10000\n",
    "\n",
    "data = scs.norm.rvs(size=10000, loc=0, scale=2)\n",
    "mean, var, skew, kurt = scs.norm.stats(loc=0, scale=2, moments='mvsk')\n",
    "print(\"mean - expected: 0, actual: \", mean)\n",
    "print(\"variance- expected: 4, actual: \", var)\n",
    "print(\"standard deviation - expected: 2, actual: \", data.std())\n",
    "print(\"median- expected: 0, actual: \",scs.norm.median(loc=0, scale=2))\n",
    "print(\"expected value - expected: 0, actual: \", scs.norm.expect(loc=0, scale=2))\n",
    "print(\"kurtosis - expected: 0, actual: \", kurt)\n",
    "print(\"skewness - expected: 0, actual: \", skew)"
   ]
  },
  {
   "cell_type": "code",
   "execution_count": 37,
   "metadata": {},
   "outputs": [],
   "source": [
    "# Zadanie 6\n",
    "\n",
    "# Narysować na jednym wykresie histogram dla rozkładu normalnego o parametrach:\n",
    "# średnia = 1, odchylenie =2, wykres dla rozkładu standardowego, \n",
    "# oraz wykres gęstości dla średniej równej -1 oraz odchylenia równego 0.5. "
   ]
  },
  {
   "cell_type": "code",
   "execution_count": 38,
   "metadata": {},
   "outputs": [
    {
     "data": {
      "image/png": "[encoded data removed]",
      "text/plain": [
       "<Figure size 432x288 with 1 Axes>"
      ]
     },
     "metadata": {
      "needs_background": "light"
     },
     "output_type": "display_data"
    }
   ],
   "source": [
    "dt0 = scs.norm.rvs(size=1000, loc=0, scale=1)\n",
    "dt1 = scs.norm.rvs(size=1000, loc=1, scale=2)\n",
    "dt2 = scs.norm.rvs(size=1000, loc=-1, scale=0.5)\n",
    "\n",
    "ax = sns.distplot(dt0,color='magenta')\n",
    "ax = sns.distplot(dt1,color='blue')\n",
    "ax = sns.kdeplot(dt2,color='green')"
   ]
  },
  {
   "cell_type": "code",
   "execution_count": null,
   "metadata": {},
   "outputs": [],
   "source": []
  }
 ],
 "metadata": {
  "kernelspec": {
   "display_name": "Python 3",
   "language": "python",
   "name": "python3"
  },
  "language_info": {
   "codemirror_mode": {
    "name": "ipython",
    "version": 3
   },
   "file_extension": ".py",
   "mimetype": "text/x-python",
   "name": "python",
   "nbconvert_exporter": "python",
   "pygments_lexer": "ipython3",
   "version": "3.7.6"
  }
 },
 "nbformat": 4,
 "nbformat_minor": 4
}
