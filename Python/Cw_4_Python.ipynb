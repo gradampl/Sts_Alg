{
 "cells": [
  {
   "cell_type": "code",
   "execution_count": 1,
   "metadata": {},
   "outputs": [
    {
     "name": "stdout",
     "output_type": "stream",
     "text": [
      "1.0641645791878778\n",
      "p-values:  0.5175955061613211\n",
      "Przyjmujemy hipotezę H0\n"
     ]
    }
   ],
   "source": [
    "# 1. Wygeneruj próbę losową dla rozkładu normalnego dla średniej = 2, odchylenia = 30\n",
    "# i liczby elementów = 200. Zbadaj hipotezę mówiącą o tym, że średnia tego rozkładu jest równa 2,5. \n",
    "\n",
    "import scipy.stats as scs\n",
    "import pandas as pd\n",
    "import pylab\n",
    "\n",
    "rozklad_normalny = scs.norm.rvs(size=200, loc=2, scale=30)\n",
    "srednia_rozkladu = rozklad_normalny.mean()\n",
    "print(srednia_rozkladu)\n",
    "tset, pval = scs.ttest_1samp(rozklad_normalny, 2.5)\n",
    "print('p-values: ', pval)\n",
    "if pval < 0.05:\n",
    "    print('Odrzucamy hipotezę H0')\n",
    "else:\n",
    "    print('Przyjmujemy hipotezę H0')\n"
   ]
  },
  {
   "cell_type": "code",
   "execution_count": 4,
   "metadata": {},
   "outputs": [
    {
     "name": "stdout",
     "output_type": "stream",
     "text": [
      "lech\n",
      "\n",
      "61091.348958333336\n",
      "Ttest_1sampResult(statistic=1.646503944538866, pvalue=0.10130442686854732)\n",
      "\n",
      "cola\n",
      "\n",
      "226389.46875\n",
      "Ttest_1sampResult(statistic=6.391908975571081, pvalue=1.2249714535216758e-09)\n",
      "\n",
      "regionalne\n",
      "\n",
      "48668.036458333336\n",
      "Ttest_1sampResult(statistic=17.440927488514944, pvalue=2.2572528828603765e-41)\n"
     ]
    }
   ],
   "source": [
    "# 2. Wczytaj plik napoje.csv do pandas DataFrame. Zweryfikuj hipotezę,\n",
    "# że średnie spożycie piwa lech wynosi 60500, coli wynosi 222000, \n",
    "# piw regionalne wynosi 43500. \n",
    "\n",
    "data = pd.read_csv('napoje.csv', delimiter=\";\")\n",
    "test_lech = scs.ttest_1samp(data['lech'], 60500)\n",
    "print(\"lech\\n\")\n",
    "print(data[\"lech\"].mean())\n",
    "print(test_lech)\n",
    "\n",
    "test_cola = scs.ttest_1samp(data['cola'], 222000)\n",
    "print('\\ncola\\n')\n",
    "print(data['cola'].mean())\n",
    "print(test_cola)\n",
    "\n",
    "test_regio = scs.ttest_1samp(data['regionalne'], 43500)\n",
    "print('\\nregionalne\\n')\n",
    "print(data['regionalne'].mean())\n",
    "print(test_regio)"
   ]
  },
  {
   "cell_type": "code",
   "execution_count": 9,
   "metadata": {},
   "outputs": [
    {
     "name": "stdout",
     "output_type": "stream",
     "text": [
      "Dla alpha = 0.2, test D’Agostino i Pearson\n",
      "\n",
      "\n",
      "Zmienna mies NIE pochodzi z rozkładu normalnego, wartość p:  9.254690863645396e-22\n",
      "\n",
      "Zmienna rok NIE pochodzi z rozkładu normalnego, wartość p:  6.71326167207233e-21\n",
      "\n",
      "Zmienna pepsi pochodzi Z ROZKŁADU NORMALNEGO, wartość p:  0.7200062116206445\n",
      "\n",
      "Zmienna fanta NIE pochodzi z rozkładu normalnego, wartość p:  0.1826792656115071\n",
      "\n",
      "Zmienna zywiec pochodzi Z ROZKŁADU NORMALNEGO, wartość p:  0.34024553142391856\n",
      "\n",
      "Zmienna okocim NIE pochodzi z rozkładu normalnego, wartość p:  0.12645798710253495\n",
      "\n",
      "Zmienna regionalne NIE pochodzi z rozkładu normalnego, wartość p:  2.721214025437686e-07\n",
      "\n",
      "Zmienna cola pochodzi Z ROZKŁADU NORMALNEGO, wartość p:  0.5358705042542622\n",
      "\n",
      "Zmienna lech pochodzi Z ROZKŁADU NORMALNEGO, wartość p:  0.4732014584808095\n"
     ]
    }
   ],
   "source": [
    "# 3.Sprawdzić która zmienna w pliku napoje.csv wykazuje normalność \n",
    "\n",
    "columns = ['pepsi', 'fanta', 'zywiec', 'regionalne', 'cola', 'lech']\n",
    "\n",
    "alpha = 0.2\n",
    "print('Dla alpha = 0.2, test D’Agostino i Pearson\\n')\n",
    "for column in data.columns:\n",
    "    p = scs.normaltest(data[column])[1]\n",
    "    if(p < alpha):\n",
    "        print('\\nZmienna ' + column + ' NIE pochodzi z rozkładu normalnego, wartość p: ', p)\n",
    "    else:\n",
    "        print('\\nZmienna ' + column + ' pochodzi Z ROZKŁADU NORMALNEGO, wartość p: ', p)"
   ]
  },
  {
   "cell_type": "code",
   "execution_count": 16,
   "metadata": {},
   "outputs": [
    {
     "name": "stdout",
     "output_type": "stream",
     "text": [
      "okocim-lech:  Ttest_indResult(statistic=-0.8323919685480173, pvalue=0.4057078093583595) \n",
      "\n",
      "fanta–regionalne:  Ttest_indResult(statistic=-11.013919429372727, pvalue=1.097001288015355e-24) \n",
      "\n",
      "cola–pepsi:  Ttest_indResult(statistic=145.61815604546564, pvalue=0.0)\n"
     ]
    }
   ],
   "source": [
    "# 4.Zbadaj równość średnich dla następujących par: okocim – lech, fanta – regionalne\n",
    "# oraz cola – pepsi. \n",
    "\n",
    "print('okocim-lech: ', scs.ttest_ind(data['okocim'], data['lech']),'\\n')\n",
    "print('fanta–regionalne: ', scs.ttest_ind(data['fanta'], data['regionalne']),'\\n')\n",
    "print('cola–pepsi: ', scs.ttest_ind(data['cola'], data['pepsi']))"
   ]
  },
  {
   "cell_type": "code",
   "execution_count": 17,
   "metadata": {},
   "outputs": [
    {
     "name": "stdout",
     "output_type": "stream",
     "text": [
      "Statystyka T i prawdopodobienstwo dla wariancji okocim-lech:  LeveneResult(statistic=1.191182232831977, pvalue=0.2757791126546958) \n",
      "\n",
      "Statystyka T i prawdopodobienstwo dla wariancji fanta-regionalne:  LeveneResult(statistic=13.70778945064625, pvalue=0.0002450051483561103) \n",
      "\n",
      "Statystyka T i prawdopodobienstwo dla wariancji regionalne-cola:  LeveneResult(statistic=83.85984593010029, pvalue=3.275749775904902e-18)\n"
     ]
    }
   ],
   "source": [
    "# 5.Zbadaj równość wariancji pomiędzy okocim – lech, żywiec – fanta oraz regionalne – cola. \n",
    "\n",
    "okocim_lech_var = scs.levene(data['okocim'], data['lech'])\n",
    "fanta_regionalne_var = scs.levene(data['fanta'], data['regionalne'])\n",
    "regionalne_cola_var = scs.levene(data['regionalne'], data['cola'])\n",
    "\n",
    "print('Statystyka T i prawdopodobienstwo dla wariancji okocim-lech: ', okocim_lech_var,'\\n')\n",
    "print('Statystyka T i prawdopodobienstwo dla wariancji fanta-regionalne: ', fanta_regionalne_var,'\\n')\n",
    "print('Statystyka T i prawdopodobienstwo dla wariancji regionalne-cola: ', regionalne_cola_var)"
   ]
  },
  {
   "cell_type": "code",
   "execution_count": 18,
   "metadata": {},
   "outputs": [
    {
     "name": "stdout",
     "output_type": "stream",
     "text": [
      "Ttest_relResult(statistic=-4.981131079425873, pvalue=0.00041469788280755834)\n"
     ]
    }
   ],
   "source": [
    "# 6.Zbadaj równość średnich pomiędzy latami 2001 i 2015 dla piw regionalnych. \n",
    "\n",
    "reg_2001_2015 = scs.ttest_rel(data.loc[data['rok'] == 2001]['regionalne'], data.loc[data['rok'] == 2015]['regionalne'])\n",
    "print(reg_2001_2015)"
   ]
  },
  {
   "cell_type": "code",
   "execution_count": 29,
   "metadata": {},
   "outputs": [
    {
     "name": "stdout",
     "output_type": "stream",
     "text": [
      "Ttest_relResult(statistic=0.11032676911481809, pvalue=0.9141373808316627) \n",
      "\n",
      "Ttest_relResult(statistic=0.3199018672121306, pvalue=0.7550366759257836) \n",
      "\n",
      "Ttest_relResult(statistic=-0.20520478240138976, pvalue=0.8411601080767367)\n"
     ]
    }
   ],
   "source": [
    "# 7.Zbadaj równość średnich dla wartości z roku 2016 oraz dla wartości z pliku\n",
    "# napoje_po_reklamie.csv oddzielnie dla coli, fanty i pepsi. \n",
    "# Zakładamy, że zmienne te są zależne.\n",
    "\n",
    "data1 = pd.read_csv('napoje_po_reklamie.csv', delimiter=\";\")\n",
    "cola = scs.ttest_rel(data.loc[data['rok'] == 2016]['cola'], data1['cola'])\n",
    "fanta = scs.ttest_rel(data.loc[data['rok'] == 2016]['fanta'], data1['fanta '])\n",
    "pepsi = scs.ttest_rel(data.loc[data['rok'] == 2016]['pepsi'], data1['pepsi'])\n",
    "\n",
    "print(cola,'\\n')\n",
    "print(fanta,'\\n')\n",
    "print(pepsi)"
   ]
  },
  {
   "cell_type": "code",
   "execution_count": null,
   "metadata": {},
   "outputs": [],
   "source": []
  }
 ],
 "metadata": {
  "kernelspec": {
   "display_name": "Python 3",
   "language": "python",
   "name": "python3"
  },
  "language_info": {
   "codemirror_mode": {
    "name": "ipython",
    "version": 3
   },
   "file_extension": ".py",
   "mimetype": "text/x-python",
   "name": "python",
   "nbconvert_exporter": "python",
   "pygments_lexer": "ipython3",
   "version": "3.7.6"
  }
 },
 "nbformat": 4,
 "nbformat_minor": 4
}
